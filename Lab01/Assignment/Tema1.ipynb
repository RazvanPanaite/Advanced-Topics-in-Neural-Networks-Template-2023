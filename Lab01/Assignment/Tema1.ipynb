{
 "cells": [
  {
   "cell_type": "code",
   "execution_count": 1,
   "id": "839aefda-76f0-492e-929d-fa73f5a534b7",
   "metadata": {
    "tags": []
   },
   "outputs": [],
   "source": [
    "import numpy as np"
   ]
  },
  {
   "cell_type": "code",
   "execution_count": 2,
   "id": "0668e5af-1cd3-408d-95bf-b30037a24977",
   "metadata": {
    "tags": []
   },
   "outputs": [],
   "source": [
    "def softmax(x):\n",
    "    e_x = np.exp(x - np.max(x))\n",
    "    return e_x / e_x.sum(axis=0)"
   ]
  },
  {
   "cell_type": "code",
   "execution_count": 3,
   "id": "8a5cd028-97ec-4747-af0d-f5fc70a4c5f7",
   "metadata": {
    "tags": []
   },
   "outputs": [],
   "source": [
    "w = np.array([[0.3, 0.1, -2], [-0.6, -0.5, 2], [-1, -0.5, 0.1]])\n",
    "x = np.array([1, 3, 0])\n",
    "b = np.array([0.1, 0.1, 0.1])\n",
    "y = np.array([0, 1, 0])"
   ]
  },
  {
   "cell_type": "code",
   "execution_count": 4,
   "id": "43b3ff62-96db-4a44-85d3-1a7fa304204e",
   "metadata": {
    "tags": []
   },
   "outputs": [],
   "source": [
    "def compute_y1(w, x, b):\n",
    "    z = np.dot(w.T, x) + b\n",
    "    return np.array(softmax(z))\n",
    "    \n",
    "def update(w, x, b, y, lr):\n",
    "    y1 = compute_y1(w, x, b)\n",
    "    \n",
    "    delta_z = y1 - y\n",
    "    delta_w = np.dot(delta_z.reshape(3, 1), x.reshape(1, 3))\n",
    "    delta_b = delta_z\n",
    "    \n",
    "    new_w = w - lr * delta_w\n",
    "    new_b = b - lr * delta_b\n",
    "    \n",
    "    return new_w, new_b"
   ]
  },
  {
   "cell_type": "code",
   "execution_count": 5,
   "id": "9dcc2329-ef18-4e95-8172-2c3c325bbf71",
   "metadata": {
    "tags": []
   },
   "outputs": [
    {
     "name": "stdout",
     "output_type": "stream",
     "text": [
      "Initial: [0.00405191 0.00447805 0.99147003]\n",
      "------------------------------\n",
      "After update with lr = 0.1: [0.00596184 0.01322143 0.98081673]\n",
      "w after update: \n",
      " [[ 0.29959481  0.09878443 -2.        ]\n",
      " [-0.50044781 -0.20134342  2.        ]\n",
      " [-1.099147   -0.79744101  0.1       ]]\n",
      "b after update: \n",
      " [0.09959481 0.19955219 0.000853  ]\n",
      "------------------------------\n",
      "After update with lr = 0.01: [0.00421313 0.00499208 0.99079479]\n",
      "w after update: \n",
      " [[ 0.29995948  0.09987844 -2.        ]\n",
      " [-0.59004478 -0.47013434  2.        ]\n",
      " [-1.0099147  -0.5297441   0.1       ]]\n",
      "b after update: \n",
      " [0.09995948 0.10995522 0.0900853 ]\n",
      "------------------------------\n",
      "After update with lr = 0.001: [0.00406776 0.00452699 0.99140524]\n",
      "w after update: \n",
      " [[ 0.29999595  0.09998784 -2.        ]\n",
      " [-0.59900448 -0.49701343  2.        ]\n",
      " [-1.00099147 -0.50297441  0.1       ]]\n",
      "b after update: \n",
      " [0.09999595 0.10099552 0.09900853]\n",
      "------------------------------\n"
     ]
    }
   ],
   "source": [
    "print('Initial: {}'.format(compute_y1(w, x, b)))\n",
    "print('-' * 30)\n",
    "for lr in [0.1, 0.01, 0.001]:\n",
    "    w_new, b_new = update(w, x, b, y, lr)\n",
    "    print('After update with lr = {}: {}'.format(lr, compute_y1(w_new, x, b_new)))\n",
    "    print('w after update: \\n {}'.format(w_new))\n",
    "    print('b after update: \\n {}'.format(b_new))\n",
    "    print('-' * 30)"
   ]
  },
  {
   "cell_type": "code",
   "execution_count": null,
   "id": "a52fea94-275d-4209-9187-30c9f9779fd1",
   "metadata": {},
   "outputs": [],
   "source": []
  }
 ],
 "metadata": {
  "kernelspec": {
   "display_name": "Python 3 (ipykernel)",
   "language": "python",
   "name": "python3"
  },
  "language_info": {
   "codemirror_mode": {
    "name": "ipython",
    "version": 3
   },
   "file_extension": ".py",
   "mimetype": "text/x-python",
   "name": "python",
   "nbconvert_exporter": "python",
   "pygments_lexer": "ipython3",
   "version": "3.10.9"
  }
 },
 "nbformat": 4,
 "nbformat_minor": 5
}
