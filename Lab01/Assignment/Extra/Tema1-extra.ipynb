{
 "cells": [
  {
   "cell_type": "code",
   "execution_count": 1,
   "id": "d8b513b6-2cc4-418c-b29e-4dc5ad473270",
   "metadata": {
    "tags": []
   },
   "outputs": [],
   "source": [
    "import pandas as pd\n",
    "import matplotlib.pyplot as plt\n",
    "import numpy as np\n",
    "import seaborn as sns\n",
    "from sklearn.model_selection import train_test_split\n",
    "from sklearn.linear_model import LinearRegression, Ridge, Lasso, ElasticNet\n",
    "from sklearn.metrics import mean_squared_error, r2_score\n",
    "import math\n",
    "import random\n",
    "from torch.utils.data import Dataset, DataLoader\n",
    "from tqdm import tqdm"
   ]
  },
  {
   "cell_type": "code",
   "execution_count": 2,
   "id": "12f3e404-3224-4253-b726-5a6250a72a09",
   "metadata": {
    "tags": []
   },
   "outputs": [],
   "source": [
    "df = pd.read_csv('./WineQT.csv')"
   ]
  },
  {
   "cell_type": "code",
   "execution_count": 3,
   "id": "5afcffbc-ff5f-42a1-99f7-2e5d43d52fdc",
   "metadata": {
    "tags": []
   },
   "outputs": [
    {
     "data": {
      "text/html": [
       "<div>\n",
       "<style scoped>\n",
       "    .dataframe tbody tr th:only-of-type {\n",
       "        vertical-align: middle;\n",
       "    }\n",
       "\n",
       "    .dataframe tbody tr th {\n",
       "        vertical-align: top;\n",
       "    }\n",
       "\n",
       "    .dataframe thead th {\n",
       "        text-align: right;\n",
       "    }\n",
       "</style>\n",
       "<table border=\"1\" class=\"dataframe\">\n",
       "  <thead>\n",
       "    <tr style=\"text-align: right;\">\n",
       "      <th></th>\n",
       "      <th>fixed acidity</th>\n",
       "      <th>volatile acidity</th>\n",
       "      <th>citric acid</th>\n",
       "      <th>residual sugar</th>\n",
       "      <th>chlorides</th>\n",
       "      <th>free sulfur dioxide</th>\n",
       "      <th>total sulfur dioxide</th>\n",
       "      <th>density</th>\n",
       "      <th>pH</th>\n",
       "      <th>sulphates</th>\n",
       "      <th>alcohol</th>\n",
       "      <th>quality</th>\n",
       "      <th>Id</th>\n",
       "    </tr>\n",
       "  </thead>\n",
       "  <tbody>\n",
       "    <tr>\n",
       "      <th>0</th>\n",
       "      <td>7.4</td>\n",
       "      <td>0.70</td>\n",
       "      <td>0.00</td>\n",
       "      <td>1.9</td>\n",
       "      <td>0.076</td>\n",
       "      <td>11.0</td>\n",
       "      <td>34.0</td>\n",
       "      <td>0.9978</td>\n",
       "      <td>3.51</td>\n",
       "      <td>0.56</td>\n",
       "      <td>9.4</td>\n",
       "      <td>5</td>\n",
       "      <td>0</td>\n",
       "    </tr>\n",
       "    <tr>\n",
       "      <th>1</th>\n",
       "      <td>7.8</td>\n",
       "      <td>0.88</td>\n",
       "      <td>0.00</td>\n",
       "      <td>2.6</td>\n",
       "      <td>0.098</td>\n",
       "      <td>25.0</td>\n",
       "      <td>67.0</td>\n",
       "      <td>0.9968</td>\n",
       "      <td>3.20</td>\n",
       "      <td>0.68</td>\n",
       "      <td>9.8</td>\n",
       "      <td>5</td>\n",
       "      <td>1</td>\n",
       "    </tr>\n",
       "    <tr>\n",
       "      <th>2</th>\n",
       "      <td>7.8</td>\n",
       "      <td>0.76</td>\n",
       "      <td>0.04</td>\n",
       "      <td>2.3</td>\n",
       "      <td>0.092</td>\n",
       "      <td>15.0</td>\n",
       "      <td>54.0</td>\n",
       "      <td>0.9970</td>\n",
       "      <td>3.26</td>\n",
       "      <td>0.65</td>\n",
       "      <td>9.8</td>\n",
       "      <td>5</td>\n",
       "      <td>2</td>\n",
       "    </tr>\n",
       "    <tr>\n",
       "      <th>3</th>\n",
       "      <td>11.2</td>\n",
       "      <td>0.28</td>\n",
       "      <td>0.56</td>\n",
       "      <td>1.9</td>\n",
       "      <td>0.075</td>\n",
       "      <td>17.0</td>\n",
       "      <td>60.0</td>\n",
       "      <td>0.9980</td>\n",
       "      <td>3.16</td>\n",
       "      <td>0.58</td>\n",
       "      <td>9.8</td>\n",
       "      <td>6</td>\n",
       "      <td>3</td>\n",
       "    </tr>\n",
       "    <tr>\n",
       "      <th>4</th>\n",
       "      <td>7.4</td>\n",
       "      <td>0.70</td>\n",
       "      <td>0.00</td>\n",
       "      <td>1.9</td>\n",
       "      <td>0.076</td>\n",
       "      <td>11.0</td>\n",
       "      <td>34.0</td>\n",
       "      <td>0.9978</td>\n",
       "      <td>3.51</td>\n",
       "      <td>0.56</td>\n",
       "      <td>9.4</td>\n",
       "      <td>5</td>\n",
       "      <td>4</td>\n",
       "    </tr>\n",
       "  </tbody>\n",
       "</table>\n",
       "</div>"
      ],
      "text/plain": [
       "   fixed acidity  volatile acidity  citric acid  residual sugar  chlorides  \\\n",
       "0            7.4              0.70         0.00             1.9      0.076   \n",
       "1            7.8              0.88         0.00             2.6      0.098   \n",
       "2            7.8              0.76         0.04             2.3      0.092   \n",
       "3           11.2              0.28         0.56             1.9      0.075   \n",
       "4            7.4              0.70         0.00             1.9      0.076   \n",
       "\n",
       "   free sulfur dioxide  total sulfur dioxide  density    pH  sulphates  \\\n",
       "0                 11.0                  34.0   0.9978  3.51       0.56   \n",
       "1                 25.0                  67.0   0.9968  3.20       0.68   \n",
       "2                 15.0                  54.0   0.9970  3.26       0.65   \n",
       "3                 17.0                  60.0   0.9980  3.16       0.58   \n",
       "4                 11.0                  34.0   0.9978  3.51       0.56   \n",
       "\n",
       "   alcohol  quality  Id  \n",
       "0      9.4        5   0  \n",
       "1      9.8        5   1  \n",
       "2      9.8        5   2  \n",
       "3      9.8        6   3  \n",
       "4      9.4        5   4  "
      ]
     },
     "execution_count": 3,
     "metadata": {},
     "output_type": "execute_result"
    }
   ],
   "source": [
    "df.head()"
   ]
  },
  {
   "cell_type": "code",
   "execution_count": 4,
   "id": "ecaeaedb-f874-4862-b712-4891f2029582",
   "metadata": {
    "tags": []
   },
   "outputs": [],
   "source": [
    "data = []\n",
    "for i in range(11):\n",
    "    data.append([])\n",
    "\n",
    "for index, row in df.iterrows():\n",
    "    instance = []\n",
    "    for i in range(11):\n",
    "        instance.append(row[i])\n",
    "    data[int(row[11])].append(instance)"
   ]
  },
  {
   "cell_type": "code",
   "execution_count": 5,
   "id": "18af3341-506c-4585-8dd3-e9f34f57ff97",
   "metadata": {
    "tags": []
   },
   "outputs": [],
   "source": [
    "for i in range(11):\n",
    "    random.shuffle(data[i])"
   ]
  },
  {
   "cell_type": "code",
   "execution_count": 6,
   "id": "7e03c56c-36ec-4ac0-b6a4-e7069bfcd55e",
   "metadata": {
    "tags": []
   },
   "outputs": [],
   "source": [
    "def value_to_one_hot(value, num_classes = 11):\n",
    "    one_hot = [0] * num_classes\n",
    "    one_hot[value] = 1\n",
    "    \n",
    "    return one_hot"
   ]
  },
  {
   "cell_type": "code",
   "execution_count": 7,
   "id": "1d8d94a6-da34-48ec-93ec-45e7309fabb8",
   "metadata": {
    "tags": []
   },
   "outputs": [],
   "source": [
    "train_data = []\n",
    "valid_data = []\n",
    "test_data = []"
   ]
  },
  {
   "cell_type": "code",
   "execution_count": 8,
   "id": "21a966b0-5f6d-49a2-93b7-4195fad0c7c4",
   "metadata": {
    "tags": []
   },
   "outputs": [],
   "source": [
    "for i in range(11):\n",
    "    for_valid = for_test = len(data[i]) // 5\n",
    "    for idx, it in enumerate(data[i]):\n",
    "        if idx < for_valid:\n",
    "            valid_data.append({'input': it, 'value': value_to_one_hot(i)})\n",
    "        elif idx < for_valid + for_test:\n",
    "            test_data.append({'input': it, 'value': value_to_one_hot(i)})\n",
    "        else:\n",
    "            train_data.append({'input': it, 'value': value_to_one_hot(i)})"
   ]
  },
  {
   "cell_type": "code",
   "execution_count": 9,
   "id": "21c23d8a-7d41-4375-a329-db798a15ce13",
   "metadata": {
    "tags": []
   },
   "outputs": [],
   "source": [
    "np.savez('./data.npz', train = train_data, valid = valid_data, test = test_data)"
   ]
  },
  {
   "cell_type": "code",
   "execution_count": 2,
   "id": "048314b5-ee2a-404f-9b87-cde1440217bd",
   "metadata": {
    "tags": []
   },
   "outputs": [],
   "source": [
    "npzfile = np.load('./data.npz', allow_pickle=True)\n",
    "train_data = npzfile['train']\n",
    "valid_data = npzfile['valid']\n",
    "test_data = npzfile['test']"
   ]
  },
  {
   "cell_type": "code",
   "execution_count": 3,
   "id": "6ed5b5b1-2e58-40b8-ac33-79c8712de48d",
   "metadata": {},
   "outputs": [],
   "source": [
    "w = np.random.rand(11, 11)\n",
    "b = np.random.rand(11)"
   ]
  },
  {
   "cell_type": "code",
   "execution_count": 4,
   "id": "4b4bc576-13a4-4652-b578-aa47d926707f",
   "metadata": {
    "tags": []
   },
   "outputs": [],
   "source": [
    "def softmax(x):\n",
    "    e_x = np.exp(x - np.max(x))\n",
    "    return e_x / e_x.sum(axis=0)\n",
    "\n",
    "def compute_y1(w, x, b):\n",
    "    z = np.dot(w.T, x) + b\n",
    "    return np.array(softmax(z))\n",
    "    \n",
    "def update(w, x, b, y, lr):\n",
    "    y1 = compute_y1(w, x, b)\n",
    "    \n",
    "    delta_z = y1 - y\n",
    "    delta_w = np.dot(delta_z.reshape(11, 1), x.reshape(1, 11))\n",
    "    delta_b = delta_z\n",
    "    \n",
    "    new_w = w - lr * delta_w\n",
    "    new_b = b - lr * delta_b\n",
    "    \n",
    "    return new_w, new_b"
   ]
  },
  {
   "cell_type": "code",
   "execution_count": 5,
   "id": "6833f4f7-5c01-4ceb-8a6b-c22754caef59",
   "metadata": {
    "tags": []
   },
   "outputs": [],
   "source": [
    "epochs = 500\n",
    "lr = 0.01\n",
    "best_w = w\n",
    "best_b = b\n",
    "best_acc = 0.0\n",
    "metric_val = []"
   ]
  },
  {
   "cell_type": "code",
   "execution_count": 6,
   "id": "ae383ed1-164d-4dcd-bf88-632358cd4ab5",
   "metadata": {},
   "outputs": [
    {
     "name": "stderr",
     "output_type": "stream",
     "text": [
      "100%|█████████████████████████████████████████████████████████████████████████████████████████████████████| 500/500 [00:09<00:00, 50.61it/s]\n"
     ]
    }
   ],
   "source": [
    "for epoch in tqdm(range(epochs)):\n",
    "    random.shuffle(train_data)\n",
    "    for it in train_data:\n",
    "        x = np.array(it['input'])\n",
    "        y = np.array(it['value'])\n",
    "        w, b = update(w, x, b, y, lr)\n",
    "    \n",
    "    acc = 0\n",
    "    for it in valid_data:\n",
    "        x = np.array(it['input'])\n",
    "        y = np.array(it['value'])\n",
    "        y1 = compute_y1(w, x, b)\n",
    "        \n",
    "        if y.argmax() == y1.argmax():\n",
    "            acc += 1\n",
    "    acc /= len(valid_data)\n",
    "    metric_val.append(acc)\n",
    "    \n",
    "    if acc > best_acc:\n",
    "        best_acc = acc\n",
    "        best_w = w\n",
    "        best_b = b"
   ]
  },
  {
   "cell_type": "code",
   "execution_count": 7,
   "id": "d71a6d16-e838-44ce-80f6-2907ab81eaaf",
   "metadata": {
    "tags": []
   },
   "outputs": [
    {
     "name": "stdout",
     "output_type": "stream",
     "text": [
      "0.3053097345132743\n"
     ]
    }
   ],
   "source": [
    "print(best_acc)"
   ]
  },
  {
   "cell_type": "code",
   "execution_count": 8,
   "id": "68ff9d14-4b12-4dee-8aeb-b694cab0e252",
   "metadata": {
    "tags": []
   },
   "outputs": [
    {
     "data": {
      "image/png": "[encoded data removed]",
      "text/plain": [
       "<Figure size 1000x1000 with 1 Axes>"
      ]
     },
     "metadata": {},
     "output_type": "display_data"
    }
   ],
   "source": [
    "plt.figure(figsize=(10,10))\n",
    "plt.plot(metric_val, label='valid')\n",
    "plt.xlabel(\"iterations\")\n",
    "plt.ylabel('metric')\n",
    "plt.legend()\n",
    "plt.show()"
   ]
  },
  {
   "cell_type": "code",
   "execution_count": 9,
   "id": "0a8a1340-6492-4175-9f44-00cc67db7256",
   "metadata": {
    "tags": []
   },
   "outputs": [
    {
     "name": "stdout",
     "output_type": "stream",
     "text": [
      "0.3185840707964602\n"
     ]
    }
   ],
   "source": [
    "acc = 0\n",
    "for it in test_data:\n",
    "    x = np.array(it['input'])\n",
    "    y = np.array(it['value'])\n",
    "    y1 = compute_y1(best_w, x, best_b)\n",
    "\n",
    "    if y.argmax() == y1.argmax():\n",
    "        acc += 1\n",
    "acc /= len(test_data)\n",
    "print(acc)"
   ]
  },
  {
   "cell_type": "code",
   "execution_count": 10,
   "id": "11497bb4-a60b-4924-82e4-9e9c1b939918",
   "metadata": {
    "tags": []
   },
   "outputs": [],
   "source": [
    "np.savez('./model.npz', w = best_w, b = best_b)"
   ]
  },
  {
   "cell_type": "code",
   "execution_count": null,
   "id": "5b5d67ed-a5e0-46be-9914-048c4648b3ea",
   "metadata": {},
   "outputs": [],
   "source": []
  }
 ],
 "metadata": {
  "kernelspec": {
   "display_name": "Python 3 (ipykernel)",
   "language": "python",
   "name": "python3"
  },
  "language_info": {
   "codemirror_mode": {
    "name": "ipython",
    "version": 3
   },
   "file_extension": ".py",
   "mimetype": "text/x-python",
   "name": "python",
   "nbconvert_exporter": "python",
   "pygments_lexer": "ipython3",
   "version": "3.10.9"
  }
 },
 "nbformat": 4,
 "nbformat_minor": 5
}
