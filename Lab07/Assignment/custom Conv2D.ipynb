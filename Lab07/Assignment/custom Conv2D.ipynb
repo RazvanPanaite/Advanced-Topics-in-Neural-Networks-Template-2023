{
 "cells": [
  {
   "cell_type": "code",
   "execution_count": 1,
   "id": "01074c5c-8ac5-43b1-ac79-55d79c3c78a1",
   "metadata": {},
   "outputs": [],
   "source": [
    "import torch"
   ]
  },
  {
   "cell_type": "code",
   "execution_count": 2,
   "id": "2aacbc26-f651-4506-80c7-cda0d82e641d",
   "metadata": {},
   "outputs": [],
   "source": [
    "inp = torch.randn(1, 3, 10, 12)\n",
    "w = torch.randn(2, 3, 4, 5)"
   ]
  },
  {
   "cell_type": "code",
   "execution_count": 3,
   "id": "3a3343fe-2369-4b28-92b3-174ec46cd52a",
   "metadata": {},
   "outputs": [],
   "source": [
    "class Handmade_conv2d_implementation():\n",
    "    def __init__(self, weights, bias=None, stride=1, padding=0, dilation=1):\n",
    "        self.weights = weights\n",
    "        self.bias = bias\n",
    "        self.stride = stride\n",
    "        self.padding = padding\n",
    "        self.dilation = dilation\n",
    "        \n",
    "    def __call__(self, inp):\n",
    "        if self.padding > 0:\n",
    "            inp = torch.nn.functional.pad(inp, (self.padding, self.padding, self.padding, self.padding))\n",
    "\n",
    "        out_height = (inp.shape[2] - self.dilation * (self.weights.shape[2] - 1) - 1) // self.stride + 1\n",
    "        out_width = (inp.shape[3] - self.dilation * (self.weights.shape[3] - 1) - 1) // self.stride + 1\n",
    "        \n",
    "        ans = torch.zeros((inp.shape[0], self.weights.shape[0], out_height, out_width))\n",
    "        for batch in range(ans.shape[0]):\n",
    "            for out_channel in range(ans.shape[1]):\n",
    "                for in_channel in range(inp.shape[1]):\n",
    "                    for h in range(ans.shape[2]):\n",
    "                        for w in range(ans.shape[3]):\n",
    "                            h_in = h * self.stride\n",
    "                            w_in = w * self.stride\n",
    "                            \n",
    "                            kernel = self.weights[out_channel, in_channel, :, :]\n",
    "                            region = inp[batch, in_channel, h_in:h_in + self.dilation * (self.weights.shape[2] - 1) + 1:self.dilation, w_in:w_in + self.dilation * (self.weights.shape[3] - 1) + 1:self.dilation]\n",
    "\n",
    "                            ans[batch, out_channel, h, w] += torch.sum(region * kernel)\n",
    "                if self.bias is not None:\n",
    "                    ans[batch, out_channel, :, :] += bias[out_channel]\n",
    "                    \n",
    "        return ans"
   ]
  },
  {
   "cell_type": "code",
   "execution_count": 4,
   "id": "9d64d6ca-ae07-4c3a-b431-5b233a0d1b8a",
   "metadata": {},
   "outputs": [],
   "source": [
    "custom_conv2d_layer = Handmade_conv2d_implementation(weights=w, stride=3, padding=2, dilation=2)\n",
    "out = custom_conv2d_layer(inp)"
   ]
  },
  {
   "cell_type": "code",
   "execution_count": 5,
   "id": "2e300450-6c76-48b8-9f11-136900adf5a7",
   "metadata": {},
   "outputs": [
    {
     "name": "stdout",
     "output_type": "stream",
     "text": [
      "tensor(3.8147e-06)\n"
     ]
    }
   ],
   "source": [
    "print((torch.nn.functional.conv2d(inp, w, stride=3, padding=2, dilation=2) - out).abs().max())"
   ]
  },
  {
   "cell_type": "code",
   "execution_count": null,
   "id": "c2178f3d-f213-4a81-b7a4-df7b28ff6687",
   "metadata": {},
   "outputs": [],
   "source": []
  }
 ],
 "metadata": {
  "kernelspec": {
   "display_name": "Python 3 (ipykernel)",
   "language": "python",
   "name": "python3"
  },
  "language_info": {
   "codemirror_mode": {
    "name": "ipython",
    "version": 3
   },
   "file_extension": ".py",
   "mimetype": "text/x-python",
   "name": "python",
   "nbconvert_exporter": "python",
   "pygments_lexer": "ipython3",
   "version": "3.11.6"
  }
 },
 "nbformat": 4,
 "nbformat_minor": 5
}
