{
 "cells": [
  {
   "cell_type": "code",
   "execution_count": 1,
   "id": "f56daf26-cca9-4df8-9e79-b5e2b891dc93",
   "metadata": {
    "tags": []
   },
   "outputs": [],
   "source": [
    "import torch\n",
    "import random\n",
    "import math"
   ]
  },
  {
   "cell_type": "code",
   "execution_count": 2,
   "id": "1046db6a-0ac3-4cd5-8ecf-423f530fd663",
   "metadata": {
    "tags": []
   },
   "outputs": [],
   "source": [
    "def value_to_one_hot(value, num_classes = 10):\n",
    "    one_hot = [0] * num_classes\n",
    "    one_hot[value] = 1\n",
    "    \n",
    "    return one_hot"
   ]
  },
  {
   "cell_type": "code",
   "execution_count": 3,
   "id": "2d7e5b27-d44b-41ba-a943-02ed464e5088",
   "metadata": {
    "tags": []
   },
   "outputs": [],
   "source": [
    "m = 8\n",
    "x = torch.rand((m, 784))\n",
    "w = torch.rand((784, 10))\n",
    "b = torch.rand((10,))\n",
    "y_true = torch.tensor([value_to_one_hot(random.randint(0, 9)) for _ in range(m)])\n",
    "lr = 0.1"
   ]
  },
  {
   "cell_type": "code",
   "execution_count": 4,
   "id": "fbbf2a91-312d-41a7-95d4-f67434c17bc6",
   "metadata": {
    "tags": []
   },
   "outputs": [],
   "source": [
    "def sigmoid(x):\n",
    "    return 1 / (1 + torch.exp(-x))\n",
    "\n",
    "def compute_y1(w, x, b):\n",
    "    z = x @ w + b\n",
    "    return sigmoid(z)\n",
    "\n",
    "def train_perceptron(x, w, b, y_true, lr):\n",
    "    y_pred = compute_y1(w, x, b)\n",
    "    \n",
    "    err = y_true - y_pred\n",
    "    \n",
    "    w = w + lr * (x.T @ err)\n",
    "    b = b + lr * err.mean(axis = 0)\n",
    "    \n",
    "    return w, b"
   ]
  },
  {
   "cell_type": "code",
   "execution_count": 5,
   "id": "6ccb6f6c-2120-45f6-9997-57017f4e52db",
   "metadata": {},
   "outputs": [],
   "source": [
    "w, b = train_perceptron(x, w, b, y_true, lr)"
   ]
  },
  {
   "cell_type": "code",
   "execution_count": null,
   "id": "8596f335-a636-4eff-8da9-c8b97a3d707f",
   "metadata": {},
   "outputs": [],
   "source": []
  }
 ],
 "metadata": {
  "kernelspec": {
   "display_name": "Python 3 (ipykernel)",
   "language": "python",
   "name": "python3"
  },
  "language_info": {
   "codemirror_mode": {
    "name": "ipython",
    "version": 3
   },
   "file_extension": ".py",
   "mimetype": "text/x-python",
   "name": "python",
   "nbconvert_exporter": "python",
   "pygments_lexer": "ipython3",
   "version": "3.10.9"
  }
 },
 "nbformat": 4,
 "nbformat_minor": 5
}
