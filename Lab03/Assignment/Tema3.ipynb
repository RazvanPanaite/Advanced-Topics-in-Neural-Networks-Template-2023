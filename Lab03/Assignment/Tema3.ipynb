{
  "cells": [
    {
      "cell_type": "code",
      "execution_count": 1,
      "metadata": {
        "id": "mq4Hk-kc3dCQ"
      },
      "outputs": [],
      "source": [
        "from torchvision.datasets import MNIST\n",
        "import matplotlib.pyplot as plt\n",
        "import torch\n",
        "from torch import Tensor\n",
        "import random\n",
        "import math\n",
        "from tqdm import tqdm\n",
        "import numpy as np\n",
        "import cv2"
      ]
    },
    {
      "cell_type": "code",
      "execution_count": 2,
      "metadata": {
        "colab": {
          "base_uri": "https://localhost:8080/"
        },
        "id": "WZZjr4DA3jnu",
        "outputId": "bd76fb16-f8e2-4806-9c4e-e84018f7b3e4"
      },
      "outputs": [
        {
          "output_type": "execute_result",
          "data": {
            "text/plain": [
              "device(type='cuda')"
            ]
          },
          "metadata": {},
          "execution_count": 2
        }
      ],
      "source": [
        "device = torch.device(\"cuda\" if torch.cuda.is_available() else \"cpu\")\n",
        "device"
      ]
    },
    {
      "cell_type": "code",
      "execution_count": 3,
      "metadata": {
        "id": "izOAGHM03lrS"
      },
      "outputs": [],
      "source": [
        "def to_one_hot(x: Tensor) -> Tensor:\n",
        "    return torch.eye(x.max() + 1)[x]\n",
        "def collate(x) -> Tensor:\n",
        "    if isinstance(x, (tuple, list)):\n",
        "        if isinstance(x[0], Tensor):\n",
        "            return torch.stack(x)\n",
        "        return torch.tensor(x)\n",
        "    raise \"Not supported yet\""
      ]
    },
    {
      "cell_type": "code",
      "source": [
        "def rotate_image(image, angle_degrees):\n",
        "    center = (image.shape[1] / 2, image.shape[0] / 2)\n",
        "\n",
        "    rot_mat = cv2.getRotationMatrix2D(center, angle_degrees, 1.0)\n",
        "    rotated_image = cv2.warpAffine(image, rot_mat, image.shape[1::-1], flags=cv2.INTER_LINEAR)\n",
        "\n",
        "    return rotated_image"
      ],
      "metadata": {
        "id": "ZJn8cos-Cufd"
      },
      "execution_count": 4,
      "outputs": []
    },
    {
      "cell_type": "code",
      "execution_count": 5,
      "metadata": {
        "id": "zfMzkhFv3mv4"
      },
      "outputs": [],
      "source": [
        "def load_mnist(path: str = \"./data\", train: bool = True, pin_memory: bool = True):\n",
        "    mnist_raw = MNIST(path, download=True, train=train)\n",
        "    mnist_data = []\n",
        "    mnist_labels = []\n",
        "    for image, label in mnist_raw:\n",
        "        tensor = torch.from_numpy(np.array(image))\n",
        "        mnist_data.append(tensor)\n",
        "        mnist_labels.append(label)\n",
        "\n",
        "        # if train:\n",
        "        #     pixel = 1\n",
        "        #     img_shifted_1 = torch.cat((255 * torch.ones(size=(pixel, 28)), tensor[pixel:, :]))\n",
        "        #     img_shifted_2 = torch.cat((tensor[:28-pixel, :], 255 * torch.ones(size=(pixel, 28))))\n",
        "        #     img_shifted_3 = torch.cat((255 * torch.ones(size=(28, pixel)), tensor[:, pixel:]), dim=1)\n",
        "        #     img_shifted_4 = torch.cat((tensor[:, :28-pixel], 255 * torch.ones(size=(28, pixel))), dim=1)\n",
        "\n",
        "        #     for img in [img_shifted_1, img_shifted_2, img_shifted_3, img_shifted_4]:\n",
        "        #         mnist_data.append(img)\n",
        "        #         mnist_labels.append(label)\n",
        "\n",
        "    mnist_data = collate(mnist_data).float()  # shape 60000, 28, 28\n",
        "    mnist_data = mnist_data.flatten(start_dim=1)  # shape 60000, 784\n",
        "    mnist_data /= mnist_data.max()  # min max normalize\n",
        "    mnist_labels = collate(mnist_labels)  # shape 60000\n",
        "    mnist_labels = to_one_hot(mnist_labels)  # shape 60000, 10\n",
        "    if pin_memory:\n",
        "        return mnist_data.pin_memory(), mnist_labels.pin_memory()\n",
        "    return mnist_data, mnist_labels"
      ]
    },
    {
      "cell_type": "code",
      "source": [
        "pin_memory = device.type == 'cuda'\n",
        "data, labels = load_mnist(train=True, pin_memory=pin_memory)\n",
        "data_test, labels_test = load_mnist(train=False, pin_memory=pin_memory)"
      ],
      "metadata": {
        "colab": {
          "base_uri": "https://localhost:8080/"
        },
        "id": "gE8NrqiuAXmP",
        "outputId": "a6d8ac9a-8544-46ae-d7ed-4ae2acaa8d6c"
      },
      "execution_count": 6,
      "outputs": [
        {
          "output_type": "stream",
          "name": "stdout",
          "text": [
            "Downloading http://yann.lecun.com/exdb/mnist/train-images-idx3-ubyte.gz\n",
            "Downloading http://yann.lecun.com/exdb/mnist/train-images-idx3-ubyte.gz to ./data/MNIST/raw/train-images-idx3-ubyte.gz\n"
          ]
        },
        {
          "output_type": "stream",
          "name": "stderr",
          "text": [
            "100%|██████████| 9912422/9912422 [00:00<00:00, 117380190.25it/s]\n"
          ]
        },
        {
          "output_type": "stream",
          "name": "stdout",
          "text": [
            "Extracting ./data/MNIST/raw/train-images-idx3-ubyte.gz to ./data/MNIST/raw\n",
            "\n",
            "Downloading http://yann.lecun.com/exdb/mnist/train-labels-idx1-ubyte.gz\n",
            "Downloading http://yann.lecun.com/exdb/mnist/train-labels-idx1-ubyte.gz to ./data/MNIST/raw/train-labels-idx1-ubyte.gz\n"
          ]
        },
        {
          "output_type": "stream",
          "name": "stderr",
          "text": [
            "100%|██████████| 28881/28881 [00:00<00:00, 68092014.52it/s]\n"
          ]
        },
        {
          "output_type": "stream",
          "name": "stdout",
          "text": [
            "Extracting ./data/MNIST/raw/train-labels-idx1-ubyte.gz to ./data/MNIST/raw\n",
            "\n",
            "Downloading http://yann.lecun.com/exdb/mnist/t10k-images-idx3-ubyte.gz\n",
            "Downloading http://yann.lecun.com/exdb/mnist/t10k-images-idx3-ubyte.gz to ./data/MNIST/raw/t10k-images-idx3-ubyte.gz\n"
          ]
        },
        {
          "output_type": "stream",
          "name": "stderr",
          "text": [
            "100%|██████████| 1648877/1648877 [00:00<00:00, 34135524.49it/s]\n"
          ]
        },
        {
          "output_type": "stream",
          "name": "stdout",
          "text": [
            "Extracting ./data/MNIST/raw/t10k-images-idx3-ubyte.gz to ./data/MNIST/raw\n",
            "\n",
            "Downloading http://yann.lecun.com/exdb/mnist/t10k-labels-idx1-ubyte.gz\n",
            "Downloading http://yann.lecun.com/exdb/mnist/t10k-labels-idx1-ubyte.gz to ./data/MNIST/raw/t10k-labels-idx1-ubyte.gz\n"
          ]
        },
        {
          "output_type": "stream",
          "name": "stderr",
          "text": [
            "100%|██████████| 4542/4542 [00:00<00:00, 23577387.09it/s]\n"
          ]
        },
        {
          "output_type": "stream",
          "name": "stdout",
          "text": [
            "Extracting ./data/MNIST/raw/t10k-labels-idx1-ubyte.gz to ./data/MNIST/raw\n",
            "\n"
          ]
        }
      ]
    },
    {
      "cell_type": "code",
      "execution_count": 7,
      "metadata": {
        "id": "_Nqoe-sF3no8",
        "colab": {
          "base_uri": "https://localhost:8080/"
        },
        "outputId": "4f1658b7-bd30-4956-f90a-3b1fc6ec8181"
      },
      "outputs": [
        {
          "output_type": "stream",
          "name": "stdout",
          "text": [
            "60000\n",
            "10000\n"
          ]
        }
      ],
      "source": [
        "print(len(data))\n",
        "print(len(data_test))"
      ]
    },
    {
      "cell_type": "code",
      "execution_count": 8,
      "metadata": {
        "id": "F7XUpDlR3ubx"
      },
      "outputs": [],
      "source": [
        "def relu(x):\n",
        "    return torch.max(x, torch.zeros_like(x))\n",
        "def prelu(x, alpha):\n",
        "    return torch.where(x >= 0, x, alpha * x)\n",
        "def elu(x, alpha=1.0):\n",
        "    return torch.where(x >= 0, x, alpha * (torch.exp(x) - 1))\n",
        "def leaky_relu(x, alpha=0.01):\n",
        "    return torch.where(x >= 0, x, alpha * x)\n",
        "\n",
        "def relu_derivative(x):\n",
        "    return torch.where(x > 0, torch.tensor(1.0).to(device), torch.tensor(0.0).to(device))\n",
        "def prelu_derivative(x, alpha):\n",
        "    return torch.where(x >= 0, torch.tensor(1.0), alpha)\n",
        "def elu_derivative(x, alpha=1.0):\n",
        "    return torch.where(x >= 0, torch.tensor(1.0), torch.exp(x) + alpha)\n",
        "def leaky_relu_derivative(x, alpha=0.01):\n",
        "    derivative = torch.ones_like(x)\n",
        "    derivative[x < 0] = alpha\n",
        "    return derivative"
      ]
    },
    {
      "cell_type": "code",
      "execution_count": 9,
      "metadata": {
        "id": "T0FlPJt03vb4"
      },
      "outputs": [],
      "source": [
        "class MLP:\n",
        "    def __init__(self, input_size, hidden_layer, output_size, lr, device):\n",
        "        self.device = device\n",
        "        self.weights1 = torch.rand((input_size, hidden_layer), device=device)\n",
        "        self.biases1 = torch.rand((hidden_layer,), device=device)\n",
        "\n",
        "        self.weights2 = torch.rand((hidden_layer, output_size), device=device)\n",
        "        self.biases2 = torch.rand((output_size,), device=device)\n",
        "\n",
        "        self.lr = lr\n",
        "        self.dropout_prob = 0.2\n",
        "\n",
        "    def forward(self, inputt, train):\n",
        "        self.x = inputt\n",
        "        self.batch = inputt.shape[0]\n",
        "\n",
        "        z1 = self.x @ self.weights1 + self.biases1\n",
        "        self.activ1 = relu(z1)\n",
        "        self.activ1 = self.__dropout(self.activ1, train)\n",
        "\n",
        "        z2 = self.activ1 @ self.weights2 + self.biases2\n",
        "        self.activ2 = z2.softmax(dim=1)\n",
        "\n",
        "        return self.activ2\n",
        "\n",
        "    def backward(self, label):\n",
        "        self.err2 = self.activ2 - label\n",
        "        self.err1 = relu_derivative(self.activ1) * (self.err2 @ self.weights2.T)\n",
        "\n",
        "        self.d_w1 = self.x.T @ self.err1\n",
        "        self.d_b1 = self.err1.mean(axis=0)\n",
        "\n",
        "        self.d_w2 = self.activ1.T @ self.err2\n",
        "        self.d_b2 = self.err2.mean(axis=0)\n",
        "\n",
        "    def update(self):\n",
        "        self.weights1 -= (self.lr * self.d_w1 / self.batch)\n",
        "        self.biases1 -= (self.lr * self.d_b1)\n",
        "\n",
        "        self.weights2 -= (self.lr * self.d_w2 / self.batch)\n",
        "        self.biases2 -= (self.lr * self.d_b2)\n",
        "\n",
        "    def predict(self, inputt):\n",
        "        output = self.forward(inputt, False)\n",
        "\n",
        "        return output\n",
        "\n",
        "    def modify_lr(self, lr):\n",
        "        self.lr = lr\n",
        "\n",
        "    def __dropout(self, input_data, train):\n",
        "        if train:\n",
        "            mask = ((torch.rand(input_data.shape, device=self.device) < (1 - self.dropout_prob)) / (1 - self.dropout_prob))\n",
        "            return input_data * mask\n",
        "        return input_data"
      ]
    },
    {
      "cell_type": "code",
      "execution_count": 10,
      "metadata": {
        "id": "XXwr3qrT3w7S"
      },
      "outputs": [],
      "source": [
        "batch = 256\n",
        "eval_batch_size = 10000\n",
        "init_lr = 0.08\n",
        "epochs = 1000\n",
        "model = MLP(784, 100, 10, init_lr, device)\n",
        "\n",
        "loss_values = []\n",
        "metric_val = []\n",
        "best_acc = 0.0\n",
        "\n",
        "loss_function = torch.nn.CrossEntropyLoss()"
      ]
    },
    {
      "cell_type": "code",
      "execution_count": 11,
      "metadata": {
        "id": "0NO4J6qm3yRU"
      },
      "outputs": [],
      "source": [
        "def poly_lr(ep, max_ep, initial_lr, exponent=0.9):\n",
        "    return initial_lr * (1 - ep / max_ep)**exponent"
      ]
    },
    {
      "cell_type": "code",
      "execution_count": 12,
      "metadata": {
        "colab": {
          "base_uri": "https://localhost:8080/"
        },
        "id": "eVtP623q3zPK",
        "outputId": "1898e9da-3fcb-4aa2-8269-d68b02882dce"
      },
      "outputs": [
        {
          "output_type": "stream",
          "name": "stderr",
          "text": [
            "100%|██████████| 1000/1000 [03:28<00:00,  4.80it/s, train_loss: 1.5048314226434585, train_acc: 0.9718, test_loss: 1.4986295700073242, test_acc: 0.9725, best accuracy = 0.9729]\n"
          ]
        }
      ],
      "source": [
        "non_blocking = device.type == 'cuda'\n",
        "\n",
        "var = tqdm(range(epochs))\n",
        "for epoch in var:\n",
        "    model.modify_lr(poly_lr(epoch, epochs, init_lr, 0.9))\n",
        "\n",
        "    train_loss = 0.0\n",
        "    train_acc = 0.0\n",
        "\n",
        "    step = 0\n",
        "    for i in range(0, data.shape[0], batch):\n",
        "        step += 1\n",
        "        x = data[i: i + batch].to(device, non_blocking=non_blocking)\n",
        "        y = labels[i: i + batch].to(device, non_blocking=non_blocking)\n",
        "\n",
        "        outputs = model.forward(x, True)\n",
        "\n",
        "        loss = loss_function(outputs, y)\n",
        "        train_loss += loss.item()\n",
        "        train_acc += (torch.argmax(outputs, axis=1) == torch.argmax(y, axis=1)).sum().item()\n",
        "\n",
        "        model.backward(y)\n",
        "        model.update()\n",
        "\n",
        "    train_loss /= step\n",
        "    train_acc /= len(data)\n",
        "    loss_values.append(train_loss)\n",
        "################################################################################################\n",
        "    test_loss = 0.0\n",
        "    test_acc = 0\n",
        "\n",
        "    step = 0\n",
        "    for i in range(0, data_test.shape[0], eval_batch_size):\n",
        "        step += 1\n",
        "        x = data_test[i: i + eval_batch_size].to(device, non_blocking=non_blocking)\n",
        "        y = labels_test[i: i + eval_batch_size].to(device, non_blocking=non_blocking)\n",
        "\n",
        "        outputs = model.predict(x)\n",
        "\n",
        "        loss = loss_function(outputs, y)\n",
        "        test_loss += loss.item()\n",
        "        test_acc += (torch.argmax(outputs, axis=1) == torch.argmax(y, axis=1)).sum().item()\n",
        "\n",
        "    test_loss /= step\n",
        "    test_acc /= len(data_test)\n",
        "    metric_val.append(test_acc)\n",
        "\n",
        "    if test_acc > best_acc:\n",
        "        best_acc = test_acc\n",
        "        best_model = model\n",
        "\n",
        "    var.set_postfix_str(f\"train_loss: {train_loss}, train_acc: {train_acc}, test_loss: {test_loss}, test_acc: {test_acc}, best accuracy = {best_acc}\")"
      ]
    },
    {
      "cell_type": "code",
      "execution_count": 13,
      "metadata": {
        "id": "FDfSWF2l30ci",
        "colab": {
          "base_uri": "https://localhost:8080/"
        },
        "outputId": "2a5e9fd3-057b-4885-ad44-46754118a257"
      },
      "outputs": [
        {
          "output_type": "stream",
          "name": "stdout",
          "text": [
            "0.9729\n"
          ]
        }
      ],
      "source": [
        "print(best_acc)"
      ]
    },
    {
      "cell_type": "code",
      "source": [
        "plt.figure(figsize=(10,10))\n",
        "plt.plot(metric_val, label='valid')\n",
        "plt.xlabel(\"iterations\")\n",
        "plt.ylabel('metric')\n",
        "plt.legend()\n",
        "plt.show()"
      ],
      "metadata": {
        "colab": {
          "base_uri": "https://localhost:8080/",
          "height": 850
        },
        "id": "wWDBpwEiA3FO",
        "outputId": "d39006fa-383b-4f7a-ad60-a847332f0f9f"
      },
      "execution_count": 14,
      "outputs": [
        {
          "output_type": "display_data",
          "data": {
            "text/plain": [
              "<Figure size 1000x1000 with 1 Axes>"
            ],
            "image/png": "[encoded data removed]"
          },
          "metadata": {}
        }
      ]
    },
    {
      "cell_type": "code",
      "source": [
        "plt.figure(figsize=(10,10))\n",
        "plt.plot(loss_values, label='train')\n",
        "plt.xlabel(\"iterations\")\n",
        "plt.ylabel('loss')\n",
        "plt.legend()\n",
        "plt.show()"
      ],
      "metadata": {
        "colab": {
          "base_uri": "https://localhost:8080/",
          "height": 850
        },
        "id": "OUycxsyvLy8_",
        "outputId": "893a76a7-42cf-4e5b-d7c1-9f1407de869e"
      },
      "execution_count": 15,
      "outputs": [
        {
          "output_type": "display_data",
          "data": {
            "text/plain": [
              "<Figure size 1000x1000 with 1 Axes>"
            ],
            "image/png": "[encoded data removed]"
          },
          "metadata": {}
        }
      ]
    },
    {
      "cell_type": "code",
      "source": [
        "import pickle\n",
        "\n",
        "with open(\"model.pkl\", \"wb\") as file:\n",
        "    pickle.dump(best_model, file)"
      ],
      "metadata": {
        "id": "SsonfxIhA4M3"
      },
      "execution_count": 16,
      "outputs": []
    },
    {
      "cell_type": "code",
      "source": [],
      "metadata": {
        "id": "r9YYishlTpZX"
      },
      "execution_count": null,
      "outputs": []
    }
  ],
  "metadata": {
    "accelerator": "GPU",
    "colab": {
      "provenance": []
    },
    "kernelspec": {
      "display_name": "Python 3",
      "name": "python3"
    },
    "language_info": {
      "name": "python"
    }
  },
  "nbformat": 4,
  "nbformat_minor": 0
}